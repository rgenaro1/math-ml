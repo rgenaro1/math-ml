{
 "cells": [
  {
   "cell_type": "markdown",
   "metadata": {},
   "source": [
    "- Variables basicas y operaciones numericas"
   ]
  },
  {
   "cell_type": "code",
   "execution_count": 2,
   "metadata": {
    "collapsed": true
   },
   "outputs": [],
   "source": [
    "x=4\n",
    "y=2.5"
   ]
  },
  {
   "cell_type": "code",
   "execution_count": 3,
   "metadata": {
    "collapsed": false
   },
   "outputs": [
    {
     "data": {
      "text/plain": [
       "int"
      ]
     },
     "execution_count": 3,
     "metadata": {},
     "output_type": "execute_result"
    }
   ],
   "source": [
    "type(x)"
   ]
  },
  {
   "cell_type": "code",
   "execution_count": 5,
   "metadata": {
    "collapsed": false
   },
   "outputs": [
    {
     "name": "stdout",
     "output_type": "stream",
     "text": [
      "2.5\n",
      "<type 'float'>\n"
     ]
    }
   ],
   "source": [
    "print y\n",
    "print type(y)"
   ]
  },
  {
   "cell_type": "code",
   "execution_count": 6,
   "metadata": {
    "collapsed": false
   },
   "outputs": [
    {
     "name": "stdout",
     "output_type": "stream",
     "text": [
      "5\n",
      "2\n",
      "12\n",
      "2\n"
     ]
    }
   ],
   "source": [
    "# Comentario\n",
    "\n",
    "# Suma\n",
    "print x+1\n",
    "# Resta\n",
    "print x-2\n",
    "# Multiplicacion\n",
    "print x*3\n",
    "# Division\n",
    "print x/2"
   ]
  },
  {
   "cell_type": "code",
   "execution_count": 7,
   "metadata": {
    "collapsed": false
   },
   "outputs": [
    {
     "name": "stdout",
     "output_type": "stream",
     "text": [
      "16\n"
     ]
    }
   ],
   "source": [
    "# Potencia\n",
    "print x**2"
   ]
  },
  {
   "cell_type": "code",
   "execution_count": 9,
   "metadata": {
    "collapsed": false
   },
   "outputs": [
    {
     "name": "stdout",
     "output_type": "stream",
     "text": [
      "6\n"
     ]
    }
   ],
   "source": [
    "# Aumento\n",
    "x += 1\n",
    "print x"
   ]
  },
  {
   "cell_type": "markdown",
   "metadata": {},
   "source": [
    "Variables básicas y operaciones booleanas"
   ]
  },
  {
   "cell_type": "code",
   "execution_count": 40,
   "metadata": {
    "collapsed": false
   },
   "outputs": [
    {
     "name": "stdout",
     "output_type": "stream",
     "text": [
      "<type 'bool'>\n",
      "False\n",
      "True\n",
      "False\n"
     ]
    }
   ],
   "source": [
    "# Verdad\n",
    "t = True \n",
    "# Falso\n",
    "f = False \n",
    "print type(t) \n",
    " # Y\n",
    "print t and f\n",
    "# O\n",
    "print t or f \n",
    "# -\n",
    "print not t "
   ]
  },
  {
   "cell_type": "markdown",
   "metadata": {},
   "source": [
    "Cadenas"
   ]
  },
  {
   "cell_type": "code",
   "execution_count": 41,
   "metadata": {
    "collapsed": false
   },
   "outputs": [
    {
     "name": "stdout",
     "output_type": "stream",
     "text": [
      "hola\n",
      "4\n",
      "hola mundo\n",
      "hola mundo\n"
     ]
    }
   ],
   "source": [
    "# Cadena de dos maneras\n",
    "saludo1 = 'hola'\n",
    "saludo2 = \"mundo\"\n",
    "print saludo1 \n",
    "#Longitud de la cadena\n",
    "print len(saludo1)\n",
    "#Concatenado\n",
    "saludo = saludo1 + ' ' + saludo2 \n",
    "print saludo\n",
    "\n",
    "saludocompleto = '%s %s' % (saludo1, saludo2) \n",
    "print saludocompleto"
   ]
  },
  {
   "cell_type": "markdown",
   "metadata": {},
   "source": [
    "Listas"
   ]
  },
  {
   "cell_type": "code",
   "execution_count": 10,
   "metadata": {
    "collapsed": false
   },
   "outputs": [
    {
     "name": "stdout",
     "output_type": "stream",
     "text": [
      "[3, 1, 2]\n",
      "2\n",
      "2\n",
      "[3, 1, 'hola']\n",
      "[3, 1, 'hola', ' mundo']\n",
      " mundo [3, 1, 'hola']\n"
     ]
    }
   ],
   "source": [
    "# Lista\n",
    "lista = [3, 1, 2]\n",
    "print lista\n",
    "# Referencia en lista\n",
    "print lista[2]\n",
    "print lista[-1]\n",
    "\n",
    "# Lista con diferentes elementos\n",
    "lista[2] = 'hola'\n",
    "print lista\n",
    "# Agregar un elemento a la lista\n",
    "lista.append(' mundo')\n",
    "print lista\n",
    "# tomamos el ultimo agregado\n",
    "ultimo = lista.pop()\n",
    "print ultimo, lista   "
   ]
  },
  {
   "cell_type": "code",
   "execution_count": 11,
   "metadata": {
    "collapsed": false
   },
   "outputs": [
    {
     "name": "stdout",
     "output_type": "stream",
     "text": [
      "[0, 1, 2, 3, 4]\n",
      "[1]\n",
      "[2, 3, 4]\n",
      "[0, 1]\n",
      "[0, 1, 2, 3, 4]\n",
      "[0, 1, 2, 3]\n",
      "[0, 1, 8, 9, 4]\n"
     ]
    }
   ],
   "source": [
    "#Lista\n",
    "nums = range(5) \n",
    "print nums        \n",
    "# Toma desde el indice 1 hasta el 2 (Excluido)\n",
    "print nums[1:2] \n",
    "# Desde el indice 2 hasta el final\n",
    "print nums[2:]   \n",
    "# Hasta el indice 2 (excluido)\n",
    "print nums[:2] \n",
    "#Toda la lista\n",
    "print nums[:] \n",
    "#Menos el Ãºltimo\n",
    "print nums[:-1]   \n",
    "#Asignando nuevos valores\n",
    "nums[2:4] = [8, 9] \n",
    "print nums "
   ]
  },
  {
   "cell_type": "markdown",
   "metadata": {},
   "source": [
    "Funcions"
   ]
  },
  {
   "cell_type": "code",
   "execution_count": 12,
   "metadata": {
    "collapsed": false
   },
   "outputs": [
    {
     "name": "stdout",
     "output_type": "stream",
     "text": [
      "#1: manzana\n",
      "#2: fresa\n",
      "#3: naranja\n",
      "#4: platanoo\n"
     ]
    }
   ],
   "source": [
    "# For\n",
    "fruta = ['manzana', 'fresa', 'naranja','platanoo']\n",
    "for idx,fruta  in enumerate(fruta):\n",
    "    print '#%d: %s' % (idx + 1, fruta)"
   ]
  },
  {
   "cell_type": "code",
   "execution_count": 13,
   "metadata": {
    "collapsed": false
   },
   "outputs": [
    {
     "name": "stdout",
     "output_type": "stream",
     "text": [
      "[0, 1, 4, 9, 16]\n"
     ]
    }
   ],
   "source": [
    "n = [0, 1, 2, 3, 4]\n",
    "cuadrado = [x ** 2 for x in n]\n",
    "print cuadrado"
   ]
  },
  {
   "cell_type": "code",
   "execution_count": 14,
   "metadata": {
    "collapsed": false
   },
   "outputs": [
    {
     "name": "stdout",
     "output_type": "stream",
     "text": [
      "[0, 4, 16]\n"
     ]
    }
   ],
   "source": [
    "# Con condicional\n",
    "n = [0, 1, 2, 3, 4]\n",
    "cuadradopar = [x ** 2 for x in n if x % 2 == 0]\n",
    "print cuadradopar"
   ]
  },
  {
   "cell_type": "markdown",
   "metadata": {},
   "source": [
    "Diccionario"
   ]
  },
  {
   "cell_type": "code",
   "execution_count": 62,
   "metadata": {
    "collapsed": false
   },
   "outputs": [
    {
     "name": "stdout",
     "output_type": "stream",
     "text": [
      "gato\n",
      "True\n",
      "bonito\n",
      "{'fruta': 'pera', 'animal': 'gato', 'pez': 'bonito'}\n",
      "{'fruta': 'pera', 'animal': 'gato'}\n",
      "N/A\n"
     ]
    }
   ],
   "source": [
    "d = {'animal': 'gato', 'fruta': 'pera'}  \n",
    "print d['animal']  \n",
    "# Verificando si existe animal en d\n",
    "print 'animal' in d\n",
    "# Agregando otro elemento\n",
    "d['pez'] = 'bonito' \n",
    "print d['pez']\n",
    "print d\n",
    "# Removemos un lemento\n",
    "del d['pez']\n",
    "print d\n",
    "# Cuando no hay el elemento arrojar N/A\n",
    "print d.get('pez', 'N/A') "
   ]
  },
  {
   "cell_type": "code",
   "execution_count": 15,
   "metadata": {
    "collapsed": false
   },
   "outputs": [
    {
     "name": "stdout",
     "output_type": "stream",
     "text": [
      "Un persona tiene 2 pies\n",
      "Un gato tiene 4 pies\n"
     ]
    }
   ],
   "source": [
    "d = {'persona': 2, 'gato': 4}\n",
    "for animal in d:\n",
    "    pies = d[animal]\n",
    "    print 'Un %s tiene %d pies' % (animal, pies)"
   ]
  },
  {
   "cell_type": "code",
   "execution_count": 16,
   "metadata": {
    "collapsed": false
   },
   "outputs": [
    {
     "name": "stdout",
     "output_type": "stream",
     "text": [
      "{0: 0, 2: 4, 4: 16}\n"
     ]
    }
   ],
   "source": [
    "# Elementos al cuadrado de pares\n",
    "n = [0, 1, 2, 3, 4]\n",
    "cuadrado = {x: x ** 2 for x in n if x % 2 == 0}\n",
    "print cuadrado"
   ]
  },
  {
   "cell_type": "code",
   "execution_count": 17,
   "metadata": {
    "collapsed": false
   },
   "outputs": [
    {
     "name": "stdout",
     "output_type": "stream",
     "text": [
      "True\n",
      "False\n",
      "True\n",
      "3\n",
      "4\n",
      "3\n"
     ]
    }
   ],
   "source": [
    "# Sets coleccion de distintos elementos\n",
    "animals = {'gato', 'perro'}\n",
    "print 'gato' in animals  \n",
    "print 'pez' in animals \n",
    "# Agregando un elemento\n",
    "animals.add('fish')\n",
    "print 'fish' in animals\n",
    "# Numero de elementos\n",
    "print len(animals)  \n",
    "# Agregando un elemento\n",
    "animals.add('cat')\n",
    "print len(animals)\n",
    "# Eliminando un elemento\n",
    "animals.remove('cat')\n",
    "print len(animals)    "
   ]
  },
  {
   "cell_type": "code",
   "execution_count": 18,
   "metadata": {
    "collapsed": false
   },
   "outputs": [
    {
     "name": "stdout",
     "output_type": "stream",
     "text": [
      "set([0, 1, 2, 3, 4, 5])\n"
     ]
    }
   ],
   "source": [
    "from math import sqrt\n",
    "nums = {int(sqrt(x)) for x in range(30)}\n",
    "print nums "
   ]
  },
  {
   "cell_type": "markdown",
   "metadata": {
    "collapsed": true
   },
   "source": [
    "Tuplas"
   ]
  },
  {
   "cell_type": "code",
   "execution_count": 20,
   "metadata": {
    "collapsed": false
   },
   "outputs": [
    {
     "name": "stdout",
     "output_type": "stream",
     "text": [
      "<type 'tuple'>\n",
      "5\n",
      "1\n"
     ]
    }
   ],
   "source": [
    "# Crea un diccionario con tuplas\n",
    "d = {(x, x + 1): x for x in range(10)}  \n",
    "# Crea una tupla\n",
    "t = (5, 6)\n",
    "print type(t)\n",
    "print d[t] \n",
    "print d[(1, 2)]"
   ]
  },
  {
   "cell_type": "markdown",
   "metadata": {},
   "source": [
    "Funciones"
   ]
  },
  {
   "cell_type": "code",
   "execution_count": 21,
   "metadata": {
    "collapsed": false
   },
   "outputs": [
    {
     "name": "stdout",
     "output_type": "stream",
     "text": [
      "negativo\n",
      "cero\n",
      "positivo\n"
     ]
    }
   ],
   "source": [
    "def sign(x):\n",
    "    if x > 0:\n",
    "        return 'positivo'\n",
    "    elif x < 0:\n",
    "        return 'negativo'\n",
    "    else:\n",
    "        return 'cero'\n",
    "\n",
    "for x in [-5, 0, 5]:\n",
    "    print sign(x)\n",
    "\n"
   ]
  },
  {
   "cell_type": "code",
   "execution_count": 22,
   "metadata": {
    "collapsed": false
   },
   "outputs": [
    {
     "name": "stdout",
     "output_type": "stream",
     "text": [
      "Hola, Bob\n",
      "HOLA, FRED!\n"
     ]
    }
   ],
   "source": [
    "# Con argumento opcional\n",
    "def hello(nombre, ms=False):\n",
    "    if ms:\n",
    "        print 'HOLA, %s!' % nombre.upper() #mayuscula\n",
    "    else:\n",
    "        print 'Hola, %s' % nombre # \n",
    "\n",
    "hello('Bob') \n",
    "hello('Fred', ms=True)"
   ]
  },
  {
   "cell_type": "markdown",
   "metadata": {},
   "source": [
    "Clases"
   ]
  },
  {
   "cell_type": "code",
   "execution_count": 24,
   "metadata": {
    "collapsed": false
   },
   "outputs": [
    {
     "name": "stdout",
     "output_type": "stream",
     "text": [
      "Hola, Fred\n",
      "HOLA, FRED!\n"
     ]
    }
   ],
   "source": [
    "class Greeter(object):\n",
    "    \n",
    "    # Construcción\n",
    "    def __init__(self, name):\n",
    "        self.name = name  # Una instancia\n",
    "        \n",
    "    # metodos\n",
    "    def greet(self, loud=False):\n",
    "        if loud:\n",
    "            print 'HOLA, %s!' % self.name.upper()\n",
    "        else:\n",
    "            print 'Hola, %s' % self.name\n",
    "        \n",
    "g = Greeter('Fred')\n",
    "g.greet()\n",
    "g.greet(loud=True)  "
   ]
  }
 ],
 "metadata": {
  "kernelspec": {
   "display_name": "Python 2",
   "language": "python",
   "name": "python2"
  },
  "language_info": {
   "codemirror_mode": {
    "name": "ipython",
    "version": 2
   },
   "file_extension": ".py",
   "mimetype": "text/x-python",
   "name": "python",
   "nbconvert_exporter": "python",
   "pygments_lexer": "ipython2",
   "version": "2.7.11"
  }
 },
 "nbformat": 4,
 "nbformat_minor": 0
}
